{
 "cells": [
  {
   "cell_type": "code",
   "execution_count": 14,
   "id": "e92938e3-3847-492e-8757-179b3f186dca",
   "metadata": {},
   "outputs": [
    {
     "name": "stdout",
     "output_type": "stream",
     "text": [
      "--2025-06-13 00:20:10--  https://github.com/DataTalksClub/llm-zoomcamp/blob/main/01-intro/parse-faq.ipynb\n",
      "Resolving github.com (github.com)... 140.82.116.3\n",
      "Connecting to github.com (github.com)|140.82.116.3|:443... connected.\n",
      "HTTP request sent, awaiting response... 200 OK\n",
      "Length: unspecified [text/html]\n",
      "Saving to: ‘parse-faq.ipynb’\n",
      "\n",
      "parse-faq.ipynb         [ <=>                ] 183.76K  --.-KB/s    in 0.01s   \n",
      "\n",
      "2025-06-13 00:20:11 (13.3 MB/s) - ‘parse-faq.ipynb’ saved [188167]\n",
      "\n"
     ]
    }
   ],
   "source": [
    "!wget https://github.com/DataTalksClub/llm-zoomcamp/blob/main/01-intro/parse-faq.ipynb"
   ]
  },
  {
   "cell_type": "code",
   "execution_count": 1,
   "id": "c2551d2c-eeae-4d73-922d-b8cbdb80dd41",
   "metadata": {},
   "outputs": [],
   "source": [
    "import os\n",
    "from openai import OpenAI\n",
    "import json\n",
    "from elasticsearch import Elasticsearch\n",
    "import tqdm\n",
    "import dotenv\n"
   ]
  },
  {
   "cell_type": "code",
   "execution_count": 2,
   "id": "c4c5193e",
   "metadata": {},
   "outputs": [
    {
     "data": {
      "text/plain": [
       "True"
      ]
     },
     "execution_count": 2,
     "metadata": {},
     "output_type": "execute_result"
    }
   ],
   "source": [
    "dotenv.load_dotenv(\".env\")"
   ]
  },
  {
   "cell_type": "code",
   "execution_count": 3,
   "id": "b02e297e-5851-4e00-b107-a5f2b5205837",
   "metadata": {},
   "outputs": [],
   "source": [
    "with open(\"documents.json\", \"r\") as f_in:\n",
    "    docs_raw = json.load(f_in)"
   ]
  },
  {
   "cell_type": "code",
   "execution_count": 4,
   "id": "a220a9d5-15b1-4160-a33e-e0146c81ce41",
   "metadata": {},
   "outputs": [],
   "source": [
    "documents = []\n",
    "for course in docs_raw:\n",
    "    for doc in course[\"documents\"]:\n",
    "        doc[\"course\"] = course[\"course\"]\n",
    "        documents.append(doc)"
   ]
  },
  {
   "cell_type": "code",
   "execution_count": 5,
   "id": "19dfeb55-03fc-4739-9503-2159beef28c0",
   "metadata": {},
   "outputs": [],
   "source": [
    "es_client = Elasticsearch('http://localhost:9200') "
   ]
  },
  {
   "cell_type": "code",
   "execution_count": 6,
   "id": "fe9e13af",
   "metadata": {},
   "outputs": [],
   "source": [
    "index_name = \"course-questions\""
   ]
  },
  {
   "cell_type": "code",
   "execution_count": 10,
   "id": "dcae253a",
   "metadata": {},
   "outputs": [
    {
     "data": {
      "text/plain": [
       "ObjectApiResponse({'acknowledged': True})"
      ]
     },
     "execution_count": 10,
     "metadata": {},
     "output_type": "execute_result"
    }
   ],
   "source": [
    "es_client.indices.delete(index=index_name)"
   ]
  },
  {
   "cell_type": "code",
   "execution_count": 11,
   "id": "164d25d9",
   "metadata": {},
   "outputs": [
    {
     "data": {
      "text/plain": [
       "ObjectApiResponse({'acknowledged': True, 'shards_acknowledged': True, 'index': 'course-questions'})"
      ]
     },
     "execution_count": 11,
     "metadata": {},
     "output_type": "execute_result"
    }
   ],
   "source": [
    "index_settings = {\n",
    "    \"settings\": {\n",
    "        \"number_of_shards\": 1,\n",
    "        \"number_of_replicas\": 0\n",
    "    },\n",
    "    \"mappings\": {\n",
    "        \"properties\": {\n",
    "            \"text\": {\"type\": \"text\"},\n",
    "            \"section\": {\"type\": \"text\"},\n",
    "            \"question\": {\"type\": \"text\"},\n",
    "            \"course\": {\"type\": \"keyword\"} \n",
    "        }\n",
    "    }\n",
    "}\n",
    "\n",
    "es_client.indices.create(index=index_name, body=index_settings)"
   ]
  },
  {
   "cell_type": "code",
   "execution_count": 12,
   "id": "da45fc9d",
   "metadata": {},
   "outputs": [
    {
     "name": "stderr",
     "output_type": "stream",
     "text": [
      "100%|██████████| 948/948 [00:03<00:00, 264.83it/s]\n"
     ]
    }
   ],
   "source": [
    "for doc in tqdm.tqdm(documents):\n",
    "    es_client.index(index=index_name, document=doc)"
   ]
  },
  {
   "cell_type": "code",
   "execution_count": 13,
   "id": "bd2d9e55",
   "metadata": {},
   "outputs": [],
   "source": [
    "def search(query):\n",
    "    search_query = {\n",
    "        \"size\": 3,\n",
    "        \"query\": {\n",
    "            \"bool\": {\n",
    "                \"must\": {\n",
    "                    \"multi_match\": {\n",
    "                        \"query\": query,\n",
    "                        \"fields\": [\"question^4\", \"text\"],\n",
    "                        \"type\": \"best_fields\"\n",
    "                    }\n",
    "                },\n",
    "                \"filter\": {\n",
    "                    \"term\": {\n",
    "                        \"course\": \"machine-learning-zoomcamp\"\n",
    "                    }\n",
    "                }\n",
    "            }\n",
    "        }\n",
    "    }\n",
    "\n",
    "    response = es_client.search(index=index_name, body=search_query)\n",
    "    \n",
    "    result_docs = []\n",
    "    \n",
    "    for hit in response['hits']['hits']:\n",
    "        result_docs.append(hit['_source'])\n",
    "    \n",
    "    return result_docs"
   ]
  },
  {
   "cell_type": "code",
   "execution_count": 14,
   "id": "f73769c6",
   "metadata": {},
   "outputs": [],
   "source": [
    "def build_prompt(question):\n",
    "    results = search(question)\n",
    "    context = \"\"\n",
    "    for doc in results:\n",
    "        context += f\"\"\"\n",
    "Q: {doc['question']}\n",
    "A: {doc['text']}\n",
    "\"\"\".strip()\n",
    "        context += \"\\n\\n\"\n",
    "    prompt = f\"\"\"\n",
    "You're a course teaching assistant. Answer the QUESTION based on the CONTEXT from the FAQ database.\n",
    "Use only the facts from the CONTEXT when answering the QUESTION.\n",
    "\n",
    "QUESTION: {question}\n",
    "\n",
    "CONTEXT:\n",
    "{context}\n",
    "\"\"\".strip()\n",
    "    return prompt\n"
   ]
  },
  {
   "cell_type": "code",
   "execution_count": 15,
   "id": "98196399",
   "metadata": {},
   "outputs": [],
   "source": [
    "query = \"How do copy a file to a Docker container?\""
   ]
  },
  {
   "cell_type": "code",
   "execution_count": 16,
   "id": "dd407329",
   "metadata": {},
   "outputs": [],
   "source": [
    "prompt = build_prompt(query)"
   ]
  },
  {
   "cell_type": "code",
   "execution_count": 17,
   "id": "bd707603",
   "metadata": {},
   "outputs": [
    {
     "data": {
      "text/plain": [
       "1446"
      ]
     },
     "execution_count": 17,
     "metadata": {},
     "output_type": "execute_result"
    }
   ],
   "source": [
    "len(prompt)"
   ]
  },
  {
   "cell_type": "code",
   "execution_count": 18,
   "id": "f18b468f",
   "metadata": {},
   "outputs": [],
   "source": [
    "import tiktoken"
   ]
  },
  {
   "cell_type": "code",
   "execution_count": 19,
   "id": "cd3a01e6",
   "metadata": {},
   "outputs": [],
   "source": [
    "encoding = tiktoken.encoding_for_model(\"gpt-4o\")"
   ]
  },
  {
   "cell_type": "code",
   "execution_count": 20,
   "id": "c2908f76",
   "metadata": {},
   "outputs": [],
   "source": [
    "tokens = encoding.encode(prompt)"
   ]
  },
  {
   "cell_type": "code",
   "execution_count": 21,
   "id": "bef940d9",
   "metadata": {},
   "outputs": [
    {
     "data": {
      "text/plain": [
       "320"
      ]
     },
     "execution_count": 21,
     "metadata": {},
     "output_type": "execute_result"
    }
   ],
   "source": [
    "len(tokens)"
   ]
  },
  {
   "cell_type": "code",
   "execution_count": 22,
   "id": "0ef530ff",
   "metadata": {},
   "outputs": [
    {
     "name": "stdout",
     "output_type": "stream",
     "text": [
      "b\"You're\"\n",
      "b' a'\n",
      "b' course'\n",
      "b' teaching'\n",
      "b' assistant'\n",
      "b'.'\n",
      "b' Answer'\n",
      "b' the'\n",
      "b' QUESTION'\n",
      "b' based'\n",
      "b' on'\n",
      "b' the'\n",
      "b' CONT'\n",
      "b'EXT'\n",
      "b' from'\n",
      "b' the'\n",
      "b' FAQ'\n",
      "b' database'\n",
      "b'.\\n'\n",
      "b'Use'\n",
      "b' only'\n",
      "b' the'\n",
      "b' facts'\n",
      "b' from'\n",
      "b' the'\n",
      "b' CONT'\n",
      "b'EXT'\n",
      "b' when'\n",
      "b' answering'\n",
      "b' the'\n",
      "b' QUESTION'\n",
      "b'.\\n\\n'\n",
      "b'QUESTION'\n",
      "b':'\n",
      "b' How'\n",
      "b' do'\n",
      "b' copy'\n",
      "b' a'\n",
      "b' file'\n",
      "b' to'\n",
      "b' a'\n",
      "b' Docker'\n",
      "b' container'\n",
      "b'?\\n\\n'\n",
      "b'CON'\n",
      "b'TEXT'\n",
      "b':\\n'\n",
      "b'Q'\n",
      "b':'\n",
      "b' How'\n",
      "b' do'\n",
      "b' I'\n",
      "b' debug'\n",
      "b' a'\n",
      "b' docker'\n",
      "b' container'\n",
      "b'?\\n'\n",
      "b'A'\n",
      "b':'\n",
      "b' Launch'\n",
      "b' the'\n",
      "b' container'\n",
      "b' image'\n",
      "b' in'\n",
      "b' interactive'\n",
      "b' mode'\n",
      "b' and'\n",
      "b' overriding'\n",
      "b' the'\n",
      "b' entry'\n",
      "b'point'\n",
      "b','\n",
      "b' so'\n",
      "b' that'\n",
      "b' it'\n",
      "b' starts'\n",
      "b' a'\n",
      "b' bash'\n",
      "b' command'\n",
      "b'.\\n'\n",
      "b'docker'\n",
      "b' run'\n",
      "b' -'\n",
      "b'it'\n",
      "b' --'\n",
      "b'entry'\n",
      "b'point'\n",
      "b' bash'\n",
      "b' <'\n",
      "b'image'\n",
      "b'>\\n'\n",
      "b'If'\n",
      "b' the'\n",
      "b' container'\n",
      "b' is'\n",
      "b' already'\n",
      "b' running'\n",
      "b','\n",
      "b' execute'\n",
      "b' a'\n",
      "b' command'\n",
      "b' in'\n",
      "b' the'\n",
      "b' specific'\n",
      "b' container'\n",
      "b':\\n'\n",
      "b'docker'\n",
      "b' ps'\n",
      "b' ('\n",
      "b'find'\n",
      "b' the'\n",
      "b' container'\n",
      "b'-id'\n",
      "b')\\n'\n",
      "b'docker'\n",
      "b' exec'\n",
      "b' -'\n",
      "b'it'\n",
      "b' <'\n",
      "b'container'\n",
      "b'-id'\n",
      "b'>'\n",
      "b' bash'\n",
      "b'\\n'\n",
      "b'(M'\n",
      "b'ar'\n",
      "b'cos'\n",
      "b' M'\n",
      "b'JD'\n",
      "b')\\n\\n'\n",
      "b'Q'\n",
      "b':'\n",
      "b' How'\n",
      "b' do'\n",
      "b' I'\n",
      "b' copy'\n",
      "b' files'\n",
      "b' from'\n",
      "b' my'\n",
      "b' local'\n",
      "b' machine'\n",
      "b' to'\n",
      "b' docker'\n",
      "b' container'\n",
      "b'?\\n'\n",
      "b'A'\n",
      "b':'\n",
      "b' You'\n",
      "b' can'\n",
      "b' copy'\n",
      "b' files'\n",
      "b' from'\n",
      "b' your'\n",
      "b' local'\n",
      "b' machine'\n",
      "b' into'\n",
      "b' a'\n",
      "b' Docker'\n",
      "b' container'\n",
      "b' using'\n",
      "b' the'\n",
      "b' docker'\n",
      "b' cp'\n",
      "b' command'\n",
      "b'.'\n",
      "b\" Here's\"\n",
      "b' how'\n",
      "b' to'\n",
      "b' do'\n",
      "b' it'\n",
      "b':\\n'\n",
      "b'To'\n",
      "b' copy'\n",
      "b' a'\n",
      "b' file'\n",
      "b' or'\n",
      "b' directory'\n",
      "b' from'\n",
      "b' your'\n",
      "b' local'\n",
      "b' machine'\n",
      "b' into'\n",
      "b' a'\n",
      "b' running'\n",
      "b' Docker'\n",
      "b' container'\n",
      "b','\n",
      "b' you'\n",
      "b' can'\n",
      "b' use'\n",
      "b' the'\n",
      "b' `'\n",
      "b'docker'\n",
      "b' cp'\n",
      "b' command'\n",
      "b'`.'\n",
      "b' The'\n",
      "b' basic'\n",
      "b' syntax'\n",
      "b' is'\n",
      "b' as'\n",
      "b' follows'\n",
      "b':\\n'\n",
      "b'docker'\n",
      "b' cp'\n",
      "b' /'\n",
      "b'path'\n",
      "b'/to'\n",
      "b'/local'\n",
      "b'/file'\n",
      "b'_or'\n",
      "b'_directory'\n",
      "b' container'\n",
      "b'_id'\n",
      "b':/'\n",
      "b'path'\n",
      "b'/in'\n",
      "b'/container'\n",
      "b'\\n'\n",
      "b'Hr'\n",
      "b'ith'\n",
      "b'ik'\n",
      "b' Kumar'\n",
      "b' Adv'\n",
      "b'ani'\n",
      "b'\\n\\n'\n",
      "b'Q'\n",
      "b':'\n",
      "b' How'\n",
      "b' do'\n",
      "b' I'\n",
      "b' copy'\n",
      "b' files'\n",
      "b' from'\n",
      "b' a'\n",
      "b' different'\n",
      "b' folder'\n",
      "b' into'\n",
      "b' docker'\n",
      "b' container'\n",
      "b'\\xe2\\x80\\x99s'\n",
      "b' working'\n",
      "b' directory'\n",
      "b'?\\n'\n",
      "b'A'\n",
      "b':'\n",
      "b' You'\n",
      "b' can'\n",
      "b' copy'\n",
      "b' files'\n",
      "b' from'\n",
      "b' your'\n",
      "b' local'\n",
      "b' machine'\n",
      "b' into'\n",
      "b' a'\n",
      "b' Docker'\n",
      "b' container'\n",
      "b' using'\n",
      "b' the'\n",
      "b' docker'\n",
      "b' cp'\n",
      "b' command'\n",
      "b'.'\n",
      "b\" Here's\"\n",
      "b' how'\n",
      "b' to'\n",
      "b' do'\n",
      "b' it'\n",
      "b':\\n'\n",
      "b'In'\n",
      "b' the'\n",
      "b' Docker'\n",
      "b'file'\n",
      "b','\n",
      "b' you'\n",
      "b' can'\n",
      "b' provide'\n",
      "b' the'\n",
      "b' folder'\n",
      "b' containing'\n",
      "b' the'\n",
      "b' files'\n",
      "b' that'\n",
      "b' you'\n",
      "b' want'\n",
      "b' to'\n",
      "b' copy'\n",
      "b' over'\n",
      "b'.'\n",
      "b' The'\n",
      "b' basic'\n",
      "b' syntax'\n",
      "b' is'\n",
      "b' as'\n",
      "b' follows'\n",
      "b':\\n'\n",
      "b'COPY'\n",
      "b' [\"'\n",
      "b'src'\n",
      "b'/p'\n",
      "b'redict'\n",
      "b'.py'\n",
      "b'\",'\n",
      "b' \"'\n",
      "b'models'\n",
      "b'/x'\n",
      "b'gb'\n",
      "b'_model'\n",
      "b'.bin'\n",
      "b'\",'\n",
      "b' \"./'\n",
      "b'\"]'\n",
      "b'\\t\\t\\t\\t\\t\\t\\t\\t\\t\\t'\n",
      "b'\\tG'\n",
      "b'opak'\n",
      "b'umar'\n",
      "b' G'\n",
      "b'opin'\n",
      "b'athan'\n"
     ]
    }
   ],
   "source": [
    "for token in tokens:\n",
    "    decoded_token = encoding.decode_single_token_bytes(token)\n",
    "    print(decoded_token)"
   ]
  },
  {
   "cell_type": "code",
   "execution_count": 23,
   "id": "b1ca40d2",
   "metadata": {},
   "outputs": [],
   "source": [
    "client = OpenAI(api_key=os.getenv(\"OPENAI_KEY\"))"
   ]
  },
  {
   "cell_type": "code",
   "execution_count": 24,
   "id": "dcaf7fc0",
   "metadata": {},
   "outputs": [],
   "source": [
    "response = client.chat.completions.create(\n",
    "    model=\"gpt-4.1-nano\",\n",
    "    messages = [\n",
    "        {\n",
    "            \"role\": \"user\",\n",
    "            \"content\": prompt\n",
    "        }\n",
    "    ]\n",
    ")"
   ]
  },
  {
   "cell_type": "code",
   "execution_count": 25,
   "id": "50a276e5",
   "metadata": {},
   "outputs": [],
   "source": [
    "answer = response.choices[0].message.content"
   ]
  },
  {
   "cell_type": "code",
   "execution_count": 28,
   "id": "70f62164",
   "metadata": {},
   "outputs": [
    {
     "data": {
      "text/plain": [
       "'You can copy a file to a Docker container using the `docker cp` command. The syntax is:  \\n`docker cp /path/to/local/file_or_directory container_id:/path/in/container`'"
      ]
     },
     "execution_count": 28,
     "metadata": {},
     "output_type": "execute_result"
    }
   ],
   "source": [
    "answer"
   ]
  },
  {
   "cell_type": "code",
   "execution_count": 26,
   "id": "9094b7a4",
   "metadata": {},
   "outputs": [
    {
     "data": {
      "text/plain": [
       "39"
      ]
     },
     "execution_count": 26,
     "metadata": {},
     "output_type": "execute_result"
    }
   ],
   "source": [
    "len(encoding.encode(answer))"
   ]
  },
  {
   "cell_type": "code",
   "execution_count": 27,
   "id": "504f371e",
   "metadata": {},
   "outputs": [
    {
     "data": {
      "text/plain": [
       "0.002215"
      ]
     },
     "execution_count": 27,
     "metadata": {},
     "output_type": "execute_result"
    }
   ],
   "source": [
    "0.005/1000*320 + 0.015/1000*41"
   ]
  },
  {
   "cell_type": "code",
   "execution_count": null,
   "id": "aec6a43a",
   "metadata": {},
   "outputs": [],
   "source": []
  }
 ],
 "metadata": {
  "kernelspec": {
   "display_name": "Python 3 (ipykernel)",
   "language": "python",
   "name": "python3"
  },
  "language_info": {
   "codemirror_mode": {
    "name": "ipython",
    "version": 3
   },
   "file_extension": ".py",
   "mimetype": "text/x-python",
   "name": "python",
   "nbconvert_exporter": "python",
   "pygments_lexer": "ipython3",
   "version": "3.12.1"
  }
 },
 "nbformat": 4,
 "nbformat_minor": 5
}
